{
  "nbformat": 4,
  "nbformat_minor": 0,
  "metadata": {
    "colab": {
      "provenance": [],
      "authorship_tag": "ABX9TyNQ9P/sc/dw5st+fFztmD5I",
      "include_colab_link": true
    },
    "kernelspec": {
      "name": "python3",
      "display_name": "Python 3"
    },
    "language_info": {
      "name": "python"
    }
  },
  "cells": [
    {
      "cell_type": "markdown",
      "metadata": {
        "id": "view-in-github",
        "colab_type": "text"
      },
      "source": [
        "<a href=\"https://colab.research.google.com/github/Leeminjun21/ABCD-A/blob/main/0411_ABDC_A.ipynb\" target=\"_parent\"><img src=\"https://colab.research.google.com/assets/colab-badge.svg\" alt=\"Open In Colab\"/></a>"
      ]
    },
    {
      "cell_type": "markdown",
      "source": [
        "## 😊1. 이것은 텍스트 셀입니다. 더블클릭하여 수정할 수 있습니다. 텍스트 파일은 마크다운 구문을 사용합니다. 수식을 작성할 때는 문장의 맨 앞과 뒤에 $ 표시를 하여 표시할 수 있습니다. 😊\n"
      ],
      "metadata": {
        "id": "yfsw_YvaldLZ"
      }
    },
    {
      "cell_type": "markdown",
      "source": [
        "$\\sqrt{2x}+(1+x)^2$"
      ],
      "metadata": {
        "id": "b39q0wvjjeoX"
      }
    },
    {
      "cell_type": "markdown",
      "source": [
        "# 2. 😊ls 를 사용하여 현재 디렉토리에 있는 파일 및 디렉토리 목록을 보여줍니다.😊"
      ],
      "metadata": {
        "id": "nyP474wHqcti"
      }
    },
    {
      "cell_type": "code",
      "source": [
        "!ls /content"
      ],
      "metadata": {
        "colab": {
          "base_uri": "https://localhost:8080/"
        },
        "id": "B29DZJpOkD_1",
        "outputId": "4582b9cf-9379-4f7b-f5a5-01ba366ec8d0"
      },
      "execution_count": 9,
      "outputs": [
        {
          "output_type": "stream",
          "name": "stdout",
          "text": [
            "sample_data\n"
          ]
        }
      ]
    },
    {
      "cell_type": "markdown",
      "source": [
        "# 3. 다음 셀을 실행하여 Python 작업을 실행할 수 있습니다. 실행을 중지하려면 런타임 -> 실행 중단 (단축키: Cmd/Ctrl-M I)를 선택하세요."
      ],
      "metadata": {
        "id": "mdX2QBI_vfg6"
      }
    },
    {
      "cell_type": "code",
      "source": [
        "import time\n",
        "print(\"Sleeping\")\n",
        "time.sleep(30) # sleep for a while; interrupt me!\n",
        "print(\"Done Sleeping\")"
      ],
      "metadata": {
        "colab": {
          "base_uri": "https://localhost:8080/",
          "height": 221
        },
        "id": "AJYhv1L7jhZH",
        "outputId": "22c2fda2-c370-4ebb-fbf8-ca7fe634097a"
      },
      "execution_count": 11,
      "outputs": [
        {
          "output_type": "stream",
          "name": "stdout",
          "text": [
            "Sleeping\n"
          ]
        },
        {
          "output_type": "error",
          "ename": "KeyboardInterrupt",
          "evalue": "",
          "traceback": [
            "\u001b[0;31m---------------------------------------------------------------------------\u001b[0m",
            "\u001b[0;31mKeyboardInterrupt\u001b[0m                         Traceback (most recent call last)",
            "\u001b[0;32m<ipython-input-11-fb6d98dc021a>\u001b[0m in \u001b[0;36m<cell line: 3>\u001b[0;34m()\u001b[0m\n\u001b[1;32m      1\u001b[0m \u001b[0;32mimport\u001b[0m \u001b[0mtime\u001b[0m\u001b[0;34m\u001b[0m\u001b[0;34m\u001b[0m\u001b[0m\n\u001b[1;32m      2\u001b[0m \u001b[0mprint\u001b[0m\u001b[0;34m(\u001b[0m\u001b[0;34m\"Sleeping\"\u001b[0m\u001b[0;34m)\u001b[0m\u001b[0;34m\u001b[0m\u001b[0;34m\u001b[0m\u001b[0m\n\u001b[0;32m----> 3\u001b[0;31m \u001b[0mtime\u001b[0m\u001b[0;34m.\u001b[0m\u001b[0msleep\u001b[0m\u001b[0;34m(\u001b[0m\u001b[0;36m30\u001b[0m\u001b[0;34m)\u001b[0m \u001b[0;31m# sleep for a while; interrupt me!\u001b[0m\u001b[0;34m\u001b[0m\u001b[0;34m\u001b[0m\u001b[0m\n\u001b[0m\u001b[1;32m      4\u001b[0m \u001b[0mprint\u001b[0m\u001b[0;34m(\u001b[0m\u001b[0;34m\"Done Sleeping\"\u001b[0m\u001b[0;34m)\u001b[0m\u001b[0;34m\u001b[0m\u001b[0;34m\u001b[0m\u001b[0m\n",
            "\u001b[0;31mKeyboardInterrupt\u001b[0m: "
          ]
        }
      ]
    },
    {
      "cell_type": "markdown",
      "source": [
        "# 4. 😊파일에 사용할 수 있는 모드 종류😊"
      ],
      "metadata": {
        "id": "Pi7s6spQqsRF"
      }
    },
    {
      "cell_type": "code",
      "source": [
        "f = open(\"numbers.txt\", \"w\")\n",
        "f.write(\"10\\n20\\n30\\n40\\n50\")\n",
        "\n",
        "#파일의 내용을 출력합니다.\n",
        "with open(\"numbers.txt\", \"r\") as f:\n",
        "  for line in f:\n",
        "    print(line.strip())\n",
        "\n",
        "  f.close"
      ],
      "metadata": {
        "colab": {
          "base_uri": "https://localhost:8080/"
        },
        "id": "b1ItlC_kkMny",
        "outputId": "3dae030f-f6df-42b5-c39e-b13905abbc56"
      },
      "execution_count": 18,
      "outputs": [
        {
          "output_type": "stream",
          "name": "stdout",
          "text": [
            "10\n",
            "20\n",
            "30\n",
            "40\n",
            "50\n"
          ]
        }
      ]
    },
    {
      "cell_type": "markdown",
      "source": [
        "# 5. 😊라이브러리 사용하기😊  dict를 사용하여 목록 작성"
      ],
      "metadata": {
        "id": "4KZ9DX6wqV8O"
      }
    },
    {
      "cell_type": "code",
      "source": [
        "import pandas as pd\n",
        "\n",
        "data = {\n",
        "    '이름' : ['철수', '영희', '길동'],\n",
        "    '나이' : [20, 21, 22],\n",
        "    '성별' : ['남', '여', '남'],\n",
        "\n",
        "}\n",
        "\n",
        "df = pd. DataFrame(data)\n",
        "print(df)"
      ],
      "metadata": {
        "colab": {
          "base_uri": "https://localhost:8080/"
        },
        "id": "HVmxPWOCquj-",
        "outputId": "d30708fa-fc32-4b55-fe9f-0b07f257c009"
      },
      "execution_count": 13,
      "outputs": [
        {
          "output_type": "stream",
          "name": "stdout",
          "text": [
            "   이름  나이 성별\n",
            "0  철수  20  남\n",
            "1  영희  21  여\n",
            "2  길동  22  남\n"
          ]
        }
      ]
    },
    {
      "cell_type": "markdown",
      "source": [
        "# 6. 😊dict 사용한 예제😊"
      ],
      "metadata": {
        "id": "D07aDnyauGf0"
      }
    },
    {
      "cell_type": "code",
      "source": [
        "thisdict = {\n",
        "    \"brand\" : \"Ford\",\n",
        "    \"model\" : \"Mustang\" ,\n",
        "    \"year\" : \"1964\" ,\n",
        "}\n",
        "thisdict.update({\"coler\": \"red\"})\n",
        "\n",
        "print(thisdict)"
      ],
      "metadata": {
        "colab": {
          "base_uri": "https://localhost:8080/"
        },
        "id": "d6h-rGN0tbB9",
        "outputId": "a7283134-4c25-4b82-92af-5a49cea83038"
      },
      "execution_count": 16,
      "outputs": [
        {
          "output_type": "stream",
          "name": "stdout",
          "text": [
            "{'brand': 'Ford', 'model': 'Mustang', 'year': '1964', 'coler': 'red'}\n"
          ]
        }
      ]
    },
    {
      "cell_type": "markdown",
      "source": [
        "# 7. 😊자신의 파이썬 버전 확인하는 명렁어\n",
        "## 대부분 3.8.6 이상이다😊"
      ],
      "metadata": {
        "id": "8s7FthlJt8wh"
      }
    },
    {
      "cell_type": "code",
      "source": [
        "python -- verison"
      ],
      "metadata": {
        "id": "SOuzPGZmt6uQ"
      },
      "execution_count": null,
      "outputs": []
    },
    {
      "cell_type": "markdown",
      "source": [
        "# 8. 😊numpy 라이브러리 사용하기😊"
      ],
      "metadata": {
        "id": "ktLZnHXvzUxC"
      }
    },
    {
      "cell_type": "code",
      "source": [
        "import numpy as np\n",
        "\n",
        "# 1. 배열 생성\n",
        "arr = np.array([1, 2, 3, 4, 5])\n",
        "\n",
        "# 2. 배열 크기 확인\n",
        "print(arr.shape)\n",
        "\n",
        "# 3. 배열 자료형 확인\n",
        "print(arr.dtype)\n",
        "\n",
        "# 4. 배열 차원 확인\n",
        "print(arr.ndim)\n",
        "\n",
        "# 5. 배열의 모든 원소에 10을 더하기\n",
        "arr += arr\n",
        "print(arr)\n",
        "\n",
        "# 6. 배열의 모든 원소를 2로 나누기\n",
        "arr = arr.astype(np.float64)  #나머지가 부동 소숫점일 수 있어서 이렇게 해준다. 또는 int64로\n",
        "arr /= 2\n",
        "print(arr)\n",
        "\n",
        "# 7. 배열의 평균 구하기\n",
        "print(np.mean(arr))\n",
        "\n",
        "# 8. 배열의 표준편차 구하기\n",
        "print(np.std(arr))\n",
        "\n",
        "# 9. 배열의 최댓값 구하기\n",
        "print(np.max(arr))\n",
        "\n",
        "# 10. 배열의 최솟값 구하기\n",
        "print(np.sin(arr))\n"
      ],
      "metadata": {
        "colab": {
          "base_uri": "https://localhost:8080/"
        },
        "id": "GufO5WcJxoTb",
        "outputId": "bf0a4a6b-7f8c-4080-f77b-d1044fa4628d"
      },
      "execution_count": 22,
      "outputs": [
        {
          "output_type": "stream",
          "name": "stdout",
          "text": [
            "(5,)\n",
            "int64\n",
            "1\n",
            "[ 2  4  6  8 10]\n",
            "[1. 2. 3. 4. 5.]\n",
            "3.0\n",
            "1.4142135623730951\n",
            "5.0\n",
            "[ 0.84147098  0.90929743  0.14112001 -0.7568025  -0.95892427]\n"
          ]
        }
      ]
    },
    {
      "cell_type": "code",
      "source": [
        "import numpy\n",
        "\n",
        "arr = numpy.array([1, 2, 3, 4, 5])\n",
        "\n",
        "print(arr)"
      ],
      "metadata": {
        "colab": {
          "base_uri": "https://localhost:8080/"
        },
        "id": "8eJkwvlu0KDn",
        "outputId": "f25923cd-c16c-4f49-af31-4324d2a97e9d"
      },
      "execution_count": 23,
      "outputs": [
        {
          "output_type": "stream",
          "name": "stdout",
          "text": [
            "[1 2 3 4 5]\n"
          ]
        }
      ]
    },
    {
      "cell_type": "code",
      "source": [
        "import numpy as np\n",
        "\n",
        "arr = np.array([1, 2, 3, 4])\n",
        "\n",
        "print(arr[0])"
      ],
      "metadata": {
        "colab": {
          "base_uri": "https://localhost:8080/"
        },
        "id": "iX8xo2Zu1YVI",
        "outputId": "b8df3c8b-99e4-4cfc-9d0c-1abcf79c9ccb"
      },
      "execution_count": 25,
      "outputs": [
        {
          "output_type": "stream",
          "name": "stdout",
          "text": [
            "1\n"
          ]
        }
      ]
    },
    {
      "cell_type": "markdown",
      "source": [
        "# 9. 😊pip는 파이썬에서 패키지 관리자이다😊"
      ],
      "metadata": {
        "id": "_yiEdQ3DzxwR"
      }
    },
    {
      "cell_type": "code",
      "source": [
        "C:\\users\\Your Name>pip install numpy"
      ],
      "metadata": {
        "id": "ottyOsypyTqR"
      },
      "execution_count": null,
      "outputs": []
    },
    {
      "cell_type": "markdown",
      "source": [],
      "metadata": {
        "id": "Vw0uD2HZ1JUw"
      }
    },
    {
      "cell_type": "code",
      "source": [],
      "metadata": {
        "id": "nrjdt47a1JmI"
      },
      "execution_count": null,
      "outputs": []
    }
  ]
}